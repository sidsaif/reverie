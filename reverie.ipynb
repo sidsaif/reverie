{
 "cells": [
  {
   "cell_type": "markdown",
   "metadata": {},
   "source": [
    "## Reverie"
   ]
  },
  {
   "cell_type": "markdown",
   "metadata": {},
   "source": [
    "Leverage data science to understand my relationship with a person.\n",
    "\n",
    "I would start with some basic data analysis and then move towards topic modeling and some adanced analysis."
   ]
  },
  {
   "cell_type": "markdown",
   "metadata": {},
   "source": [
    "## 1. Importing Functions"
   ]
  },
  {
   "cell_type": "code",
   "execution_count": null,
   "metadata": {},
   "outputs": [],
   "source": [
    "from reverie.whatsapp import prep   # To prepare the data\n",
    "# from reverie.whatsapp import general     # General statistics\n",
    "# from reverie.whatsapp import tf_idf      # To calculate TF-IDF\n",
    "# from reverie.whatsapp import emoji       # To analyze emoji use\n",
    "# from reverie.whatsapp import topic       # Topic modelling and summarization\n",
    "# from reverie.whatsapp import sentiment   # Sentiment Analysis\n",
    "# from reverie.whatsapp import wordcloud   # Create Word Clouds\n",
    "\n",
    "# from reverie.colors   import colors      # Frequent Color Visualization\n",
    "\n",
    "%matplotlib inline"
   ]
  }
 ],
 "metadata": {
  "kernelspec": {
   "display_name": "Python 3",
   "language": "python",
   "name": "python3"
  },
  "language_info": {
   "codemirror_mode": {
    "name": "ipython",
    "version": 3
   },
   "file_extension": ".py",
   "mimetype": "text/x-python",
   "name": "python",
   "nbconvert_exporter": "python",
   "pygments_lexer": "ipython3",
   "version": "3.7.6"
  }
 },
 "nbformat": 4,
 "nbformat_minor": 4
}
